{
 "cells": [
  {
   "cell_type": "code",
   "execution_count": 1,
   "id": "d14bba94",
   "metadata": {},
   "outputs": [],
   "source": [
    "import pandas as pd"
   ]
  },
  {
   "cell_type": "code",
   "execution_count": null,
   "id": "0f12c2df",
   "metadata": {},
   "outputs": [],
   "source": [
    "uncleaned_dataset = pd.read_csv('data "
   ]
  },
  {
   "cell_type": "code",
   "execution_count": null,
   "id": "11167f72-6531-45b8-9b42-e30751fe8f0d",
   "metadata": {},
   "outputs": [],
   "source": []
  }
 ],
 "metadata": {
  "kernelspec": {
   "display_name": "Python 3 (ipykernel)",
   "language": "python",
   "name": "python3"
  },
  "language_info": {
   "codemirror_mode": {
    "name": "ipython",
    "version": 3
   },
   "file_extension": ".py",
   "mimetype": "text/x-python",
   "name": "python",
   "nbconvert_exporter": "python",
   "pygments_lexer": "ipython3",
   "version": "3.13.5"
  }
 },
 "nbformat": 4,
 "nbformat_minor": 5
}
